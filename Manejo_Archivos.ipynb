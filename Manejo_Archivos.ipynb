{
 "cells": [
  {
   "cell_type": "markdown",
   "id": "f35ec025-c05d-4aa4-8f0b-881ac1964e14",
   "metadata": {},
   "source": [
    "EJERCICIO #1 CREACIÓN DE UN ARCHIVO QUE CONTIENE IDS"
   ]
  },
  {
   "cell_type": "code",
   "execution_count": 8,
   "id": "1d7422af-0db6-4087-aad4-8249864cd851",
   "metadata": {},
   "outputs": [],
   "source": [
    "import csv"
   ]
  },
  {
   "cell_type": "code",
   "execution_count": 9,
   "id": "ad735bdd-6f7c-4bad-a876-42e3be94afc6",
   "metadata": {},
   "outputs": [],
   "source": [
    "ids = [8118825, 8131330, 8137836, 8142170, 8145987, 8179461, 8192925, 8199834, 8216207, 8230465]"
   ]
  },
  {
   "cell_type": "code",
   "execution_count": 10,
   "id": "c84b146b-e356-4d08-8725-03470904e08c",
   "metadata": {},
   "outputs": [],
   "source": [
    "ids_archivo = \"ids.csv\""
   ]
  },
  {
   "cell_type": "code",
   "execution_count": 11,
   "id": "87b47c6e-6d38-4a2c-a73f-de1dcb828648",
   "metadata": {},
   "outputs": [
    {
     "name": "stdout",
     "output_type": "stream",
     "text": [
      "Creacion de archivo\n"
     ]
    }
   ],
   "source": [
    "with open( ids_archivo, mode='w', newline= '') as file:\n",
    "    writer = csv.writer(file)\n",
    "    for id in ids:\n",
    "        writer.writerow([id])\n",
    "print(\"Creacion de archivo\")        "
   ]
  },
  {
   "cell_type": "markdown",
   "id": "3a541f82-7ef4-4eaa-aa84-5d5a3d416d1f",
   "metadata": {},
   "source": [
    "Como es solicitado la particion del archivo a la mitad.\n"
   ]
  },
  {
   "cell_type": "code",
   "execution_count": 12,
   "id": "0d1280dd-2dd5-462b-be6c-509aab198137",
   "metadata": {},
   "outputs": [],
   "source": [
    "with open(\"ids.csv\", mode='r') as csvfile:\n",
    "    reader = csv.reader(csvfile)\n",
    "    ids = list(reader)\n",
    "    "
   ]
  },
  {
   "cell_type": "markdown",
   "id": "a48edc31-efb5-44aa-b716-dda95f623316",
   "metadata": {},
   "source": [
    "Determinamos la longitud del archivo"
   ]
  },
  {
   "cell_type": "code",
   "execution_count": 13,
   "id": "63db2b68-a8a4-4f9f-9e25-158b2caa45d7",
   "metadata": {},
   "outputs": [
    {
     "name": "stdout",
     "output_type": "stream",
     "text": [
      "la mitad es: 5\n"
     ]
    }
   ],
   "source": [
    "longitud = len(ids)\n",
    "largo = longitud //2\n",
    "print(\"la mitad es:\", largo)"
   ]
  },
  {
   "cell_type": "markdown",
   "id": "f730b0da-fe1f-4845-93b0-9d057a83f67b",
   "metadata": {},
   "source": [
    "Generar un archivo de sentencias SQL por cada mitad que por ID\n",
    "haga UPDATE en la tabla &quot;inventario&quot; del atributo &quot;estado&quot; a False."
   ]
  },
  {
   "cell_type": "code",
   "execution_count": 19,
   "id": "f61f5b7a-b4d1-42b9-ace4-4a2a77a125cd",
   "metadata": {},
   "outputs": [],
   "source": [
    "largo1 = ids[:largo]\n",
    "with open(\"largo1.sql\", mode='w') as sqlfile:\n",
    "  for id in largo1:\n",
    "         id = str(id).strip()  \n",
    "         sqlfile.write(f\"UPDATE inventario SET estado = False WHERE id = {id};\\n\")\n",
    "\n",
    "\n",
    "\n"
   ]
  },
  {
   "cell_type": "code",
   "execution_count": 20,
   "id": "98fd09c0-23ae-4d83-b46a-854625c242d6",
   "metadata": {},
   "outputs": [],
   "source": [
    "largo2 = ids[:largo]\n",
    "with open(\"largo2.csv\", mode='w') as sqlfile:\n",
    "    for id in largo2:\n",
    "         id = str(id).strip()  \n",
    "         sqlfile.write(f\"UPDATE inventario SET estado = False WHERE id = {id};\\n\")"
   ]
  },
  {
   "cell_type": "markdown",
   "id": "ed5b2374-f296-49d1-ac86-dce8691718d3",
   "metadata": {},
   "source": [
    "a. Generar archivo de sentencias SQL con la sentencia de UPDATE en la\n",
    "tabla &quot; inventario &quot; del atributo &quot;estado&quot; a False, pero en lotes de 100 IDs por\n",
    "UPDATE. Procesamiento Batch"
   ]
  },
  {
   "cell_type": "code",
   "execution_count": null,
   "id": "a4dbe6a3-0cfe-49e3-a286-a6372649b811",
   "metadata": {},
   "outputs": [],
   "source": []
  }
 ],
 "metadata": {
  "kernelspec": {
   "display_name": "Python 3 (ipykernel)",
   "language": "python",
   "name": "python3"
  },
  "language_info": {
   "codemirror_mode": {
    "name": "ipython",
    "version": 3
   },
   "file_extension": ".py",
   "mimetype": "text/x-python",
   "name": "python",
   "nbconvert_exporter": "python",
   "pygments_lexer": "ipython3",
   "version": "3.10.11"
  }
 },
 "nbformat": 4,
 "nbformat_minor": 5
}
